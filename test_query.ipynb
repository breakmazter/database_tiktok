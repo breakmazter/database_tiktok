{
 "cells": [
  {
   "cell_type": "markdown",
   "metadata": {},
   "source": [
    "## Test №1"
   ]
  },
  {
   "cell_type": "markdown",
   "metadata": {},
   "source": [
    "### 1. Create connection to db\n",
    "### 2. Create connections pool to db (if needed read what is pool)"
   ]
  },
  {
   "cell_type": "code",
   "execution_count": 40,
   "metadata": {},
   "outputs": [
    {
     "name": "stdout",
     "output_type": "stream",
     "text": [
      "Wall time: 2 ms\n"
     ]
    }
   ],
   "source": [
    "%%time\n",
    "from sqlalchemy import create_engine, func\n",
    "from sqlalchemy.orm import sessionmaker\n",
    "from sqlalchemy.pool import QueuePool\n",
    "\n",
    "from db.models import YoutubeVideo, VideoLink, Link, Product, Video, YoutubeChannel\n",
    "from settings import POSTGRES_URL\n",
    "\n",
    "from pprint import pprint\n",
    "\n",
    "engine = create_engine(POSTGRES_URL, pool_size=20, max_overflow=20, poolclass=QueuePool)\n",
    "Session = sessionmaker(bind=engine)"
   ]
  },
  {
   "cell_type": "markdown",
   "metadata": {},
   "source": [
    "### 3. Get random video from db and print it (will use repr method) (youtube_video)"
   ]
  },
  {
   "cell_type": "code",
   "execution_count": 5,
   "metadata": {},
   "outputs": [
    {
     "name": "stdout",
     "output_type": "stream",
     "text": [
      "<YoutubeVideo(('NafxNKzx0Mo', datetime.datetime(2021, 1, 20, 4, 25, 3, 869231, tzinfo=psycopg2.tz.FixedOffsetTimezone(offset=0, name=None))))>\n",
      "Wall time: 621 ms\n"
     ]
    }
   ],
   "source": [
    "%%time\n",
    "with Session() as session:\n",
    "    que = session.query(YoutubeVideo).filter(func.random() < 0.01).first()\n",
    "    print(que)"
   ]
  },
  {
   "cell_type": "markdown",
   "metadata": {},
   "source": [
    "### 4. Get video by id (for example 131499061) show it"
   ]
  },
  {
   "cell_type": "code",
   "execution_count": 9,
   "metadata": {},
   "outputs": [
    {
     "name": "stdout",
     "output_type": "stream",
     "text": [
      "<YoutubeVideo(('12R39oJ_yUU', datetime.datetime(2020, 7, 24, 1, 25, 41, 356255, tzinfo=psycopg2.tz.FixedOffsetTimezone(offset=0, name=None))))>\n",
      "Wall time: 642 ms\n"
     ]
    }
   ],
   "source": [
    "%%time\n",
    "video_id = int(input(\"Print video id: \"))\n",
    "with Session() as session:\n",
    "    que = session.query(YoutubeVideo).filter_by(id=video_id).one()\n",
    "    print(que)"
   ]
  },
  {
   "cell_type": "markdown",
   "metadata": {},
   "source": [
    "### 5. Get video by external_id (for example YhIe_koNiBQ) show it"
   ]
  },
  {
   "cell_type": "code",
   "execution_count": 11,
   "metadata": {},
   "outputs": [
    {
     "name": "stdout",
     "output_type": "stream",
     "text": [
      "<YoutubeVideo(('YhIe_koNiBQ', datetime.datetime(2020, 7, 24, 1, 22, 9, 307694, tzinfo=psycopg2.tz.FixedOffsetTimezone(offset=0, name=None))))>\n",
      "Wall time: 762 ms\n"
     ]
    }
   ],
   "source": [
    "%%time\n",
    "video_external_id = input(\"Print video external id: \")\n",
    "with Session() as session:\n",
    "    que = session.query(YoutubeVideo).filter_by(external_id=video_external_id).one()\n",
    "    print(que)"
   ]
  },
  {
   "cell_type": "markdown",
   "metadata": {},
   "source": [
    "### 6. Get random video with paid_promotion True"
   ]
  },
  {
   "cell_type": "code",
   "execution_count": 5,
   "metadata": {},
   "outputs": [
    {
     "name": "stdout",
     "output_type": "stream",
     "text": [
      "<YoutubeVideo(('O-CcRx_RilU', datetime.datetime(2020, 7, 9, 21, 50, 39, 465486, tzinfo=psycopg2.tz.FixedOffsetTimezone(offset=0, name=None))))>\n",
      "Wall time: 4.83 s\n"
     ]
    }
   ],
   "source": [
    "%%time\n",
    "\n",
    "with Session() as session:\n",
    "    a = session.query(YoutubeVideo).filter_by(paid_promotion=True).filter(func.random() < 0.01).first()\n",
    "    print(a)    "
   ]
  },
  {
   "cell_type": "markdown",
   "metadata": {},
   "source": [
    "### 7. Get 10 videos with paid_promotion True and game_id 3"
   ]
  },
  {
   "cell_type": "code",
   "execution_count": 12,
   "metadata": {},
   "outputs": [
    {
     "name": "stdout",
     "output_type": "stream",
     "text": [
      "[<YoutubeVideo(('3nCUJZqKpu0', datetime.datetime(2020, 8, 24, 16, 58, 42, 463159, tzinfo=psycopg2.tz.FixedOffsetTimezone(offset=0, name=None))))>,\n",
      " <YoutubeVideo(('4gVpPy3lEeg', datetime.datetime(2020, 8, 23, 6, 25, 35, 124776, tzinfo=psycopg2.tz.FixedOffsetTimezone(offset=0, name=None))))>,\n",
      " <YoutubeVideo(('6u_qdVHlZxs', datetime.datetime(2020, 10, 5, 6, 44, 54, 283480, tzinfo=psycopg2.tz.FixedOffsetTimezone(offset=0, name=None))))>,\n",
      " <YoutubeVideo(('_DwHrzUv9ew', datetime.datetime(2020, 8, 24, 17, 53, 21, 862200, tzinfo=psycopg2.tz.FixedOffsetTimezone(offset=0, name=None))))>,\n",
      " <YoutubeVideo(('o4Uf1xCguTA', datetime.datetime(2020, 8, 28, 5, 7, 54, 120515, tzinfo=psycopg2.tz.FixedOffsetTimezone(offset=0, name=None))))>,\n",
      " <YoutubeVideo(('KJF3VboHGzo', datetime.datetime(2020, 10, 5, 6, 44, 54, 231147, tzinfo=psycopg2.tz.FixedOffsetTimezone(offset=0, name=None))))>,\n",
      " <YoutubeVideo(('BJ795GzBY9k', datetime.datetime(2020, 8, 24, 17, 51, 54, 763473, tzinfo=psycopg2.tz.FixedOffsetTimezone(offset=0, name=None))))>,\n",
      " <YoutubeVideo(('9XiptkFFMHs', datetime.datetime(2020, 8, 23, 8, 27, 8, 88497, tzinfo=psycopg2.tz.FixedOffsetTimezone(offset=0, name=None))))>,\n",
      " <YoutubeVideo(('hRf6ersEKoo', datetime.datetime(2020, 8, 25, 8, 2, 57, 720707, tzinfo=psycopg2.tz.FixedOffsetTimezone(offset=0, name=None))))>,\n",
      " <YoutubeVideo(('ug-jCEJgmK8', datetime.datetime(2020, 8, 25, 8, 32, 59, 659189, tzinfo=psycopg2.tz.FixedOffsetTimezone(offset=0, name=None))))>]\n",
      "Wall time: 5 s\n"
     ]
    }
   ],
   "source": [
    "%%time\n",
    "with Session() as session:\n",
    "    que = session.query(YoutubeVideo).filter_by(paid_promotion=True, game_id=3).limit(10).all()\n",
    "    pprint(que)"
   ]
  },
  {
   "cell_type": "markdown",
   "metadata": {},
   "source": [
    "### 8. How many videos are there with paid_promotion, no error existing description, name, tags and main_lang Russian?"
   ]
  },
  {
   "cell_type": "code",
   "execution_count": 8,
   "metadata": {},
   "outputs": [
    {
     "name": "stdout",
     "output_type": "stream",
     "text": [
      "26989\n",
      "Wall time: 9min 19s\n"
     ]
    }
   ],
   "source": [
    "%%time\n",
    "with Session() as session:\n",
    "    que = session.query(func.count(YoutubeVideo.id)).select_from(YoutubeVideo)\n",
    "    \n",
    "    que = que.filter(YoutubeVideo.paid_promotion == True, YoutubeVideo.error == None,\n",
    "                     YoutubeVideo.description != None, YoutubeVideo.name != None,\n",
    "                     YoutubeVideo.tags != None, YoutubeVideo.main_lang == 'ru')\n",
    "\n",
    "    \n",
    "    print(que.scalar())"
   ]
  },
  {
   "cell_type": "markdown",
   "metadata": {},
   "source": [
    "### 9. Show video with max duration in russian uploaded between 2020-07-23 - 2020-08-23"
   ]
  },
  {
   "cell_type": "code",
   "execution_count": null,
   "metadata": {},
   "outputs": [],
   "source": [
    "%%time\n",
    "with Session() as session:\n",
    "    que = session.query(YoutubeVideo.duration_sec, func.max(YoutubeVideo.duration_sec)).\\\n",
    "    filter(YoutubeVideo.upload_date.between('2020-07-23', '2020-8-23'), YoutubeVideo.main_lang=='ru').first()\n",
    "    print(que)"
   ]
  },
  {
   "cell_type": "markdown",
   "metadata": {},
   "source": [
    "### 10. Get random video and tell if there are links?"
   ]
  },
  {
   "cell_type": "code",
   "execution_count": 9,
   "metadata": {},
   "outputs": [
    {
     "name": "stdout",
     "output_type": "stream",
     "text": [
      "Yes, video has a link-[count=8]\n",
      "Wall time: 774 ms\n"
     ]
    }
   ],
   "source": [
    "%%time\n",
    "with Session() as session:\n",
    "    link = session.query(Video).filter(func.random() < 0.01).first().links.all()\n",
    "    \n",
    "    if link:\n",
    "        print(f\"Yes, video has a link-[count={len(count_link)}]\")\n",
    "    else:\n",
    "        print(f\"No, video no has a link\")"
   ]
  },
  {
   "cell_type": "markdown",
   "metadata": {},
   "source": [
    "### 11. Show all video links for example for video 144144693"
   ]
  },
  {
   "cell_type": "code",
   "execution_count": 30,
   "metadata": {},
   "outputs": [
    {
     "name": "stdout",
     "output_type": "stream",
     "text": [
      "[]\n",
      "Wall time: 736 ms\n"
     ]
    }
   ],
   "source": [
    "%%time \n",
    "youtube_video_id = input(\"Print youtube video id: \")\n",
    "with Session() as session:\n",
    "    video_id = session.query(YoutubeVideo.external_id).filter(YoutubeVideo.id==youtube_video_id).subquery()\n",
    "    links = session.query(Video).filter(Video.id.in_(video_id)).one().links.all()\n",
    "    \n",
    "    pprint(links)"
   ]
  },
  {
   "cell_type": "markdown",
   "metadata": {},
   "source": [
    "### 12. Show all add video links for video flV7ylIJWp8"
   ]
  },
  {
   "cell_type": "code",
   "execution_count": 33,
   "metadata": {},
   "outputs": [
    {
     "name": "stdout",
     "output_type": "stream",
     "text": [
      "[<Link(('https://bit.ly/paella-de-pollo-y-marisco-yt', 'https://www.cocinatis.com/receta/paella-de-pollo-y-marisco?utm_source=Youtube&utm_medium=social&utm_campaign=paella-de-pollo-y-marisco', None, 'www.cocinatis.com'))>,\n",
      " <Link(('https://bit.ly/suscripcion-canal-youtube-cocinatis', 'https://www.youtube.com/user/cocinatis?sub_confirmation=1?utm_source=Youtube&utm_medium=social&utm_campaign=suscripcion-canal-youtube-cocinatis', None, 'www.youtube.com'))>,\n",
      " <Link(('https://twitter.com/cocinatis', 'https://twitter.com/cocinatis', None, 'twitter.com'))>,\n",
      " <Link(('https://www.cocinatis.com/', 'https://www.cocinatis.com/', None, 'www.cocinatis.com'))>,\n",
      " <Link(('https://www.facebook.com/cocinatis/', 'https://www.facebook.com/cocinatis/', None, 'www.facebook.com'))>,\n",
      " <Link(('https://www.instagram.com/cocinatis/', 'https://www.instagram.com/cocinatis/', None, 'www.instagram.com'))>,\n",
      " <Link(('https://www.pinterest.es/cocinatis/', 'https://www.pinterest.es/cocinatis/', None, 'www.pinterest.es'))>]\n",
      "Wall time: 858 ms\n"
     ]
    }
   ],
   "source": [
    "%%time\n",
    "video_external_id = input(\"Print video external id: \")\n",
    "with Session() as session:\n",
    "    video = session.query(Video).filter(Video.id==video_external_id).one().links.all()\n",
    "\n",
    "    pprint(video)"
   ]
  },
  {
   "cell_type": "markdown",
   "metadata": {},
   "source": [
    "### 13. Show all video products for video flV7ylIJWp8"
   ]
  },
  {
   "cell_type": "code",
   "execution_count": 6,
   "metadata": {},
   "outputs": [
    {
     "name": "stdout",
     "output_type": "stream",
     "text": [
      "[('www.cocinatis.com',),\n",
      " ('www.youtube.com',),\n",
      " ('twitter.com',),\n",
      " ('www.cocinatis.com',),\n",
      " ('www.facebook.com',),\n",
      " ('www.instagram.com',),\n",
      " ('www.pinterest.es',)]\n",
      "Wall time: 581 ms\n"
     ]
    }
   ],
   "source": [
    "%%time\n",
    "video_external_id = input(\"Print video external id: \")\n",
    "with Session() as session:\n",
    "    subquery_links = session.query(VideoLink.columns['link_id']).filter(VideoLink.columns['video_id']==video_external_id).subquery()\n",
    "    subquery_domain = session.query(Link.product_domain).filter(Link.link.in_(subquery_links)).all()\n",
    "    \n",
    "    pprint(subquery_domain)"
   ]
  },
  {
   "cell_type": "markdown",
   "metadata": {},
   "source": [
    "### 14. How many products have Leisure Products category?"
   ]
  },
  {
   "cell_type": "code",
   "execution_count": 35,
   "metadata": {},
   "outputs": [
    {
     "name": "stdout",
     "output_type": "stream",
     "text": [
      "[(43882,)] products included in Leisure Products\n",
      "Wall time: 43.4 s\n"
     ]
    }
   ],
   "source": [
    "%%time\n",
    "product_category = \"Leisure Products\"\n",
    "with Session() as session:\n",
    "    count_product = session.query(func.count(Product.domain)).filter(Product.category==product_category).all()\n",
    "    print(f\"{count_product} products included in {product_category}\")"
   ]
  },
  {
   "cell_type": "markdown",
   "metadata": {},
   "source": [
    "### 15. How many products have Leisure Products category for each language presented in main lang?"
   ]
  },
  {
   "cell_type": "code",
   "execution_count": 10,
   "metadata": {},
   "outputs": [
    {
     "name": "stdout",
     "output_type": "stream",
     "text": [
      "[('', 8053),\n",
      " ('af', 3),\n",
      " ('ar', 47),\n",
      " ('auto', 19),\n",
      " ('az', 4),\n",
      " ('be', 1),\n",
      " ('bg', 40),\n",
      " ('bn', 2),\n",
      " ('bs', 29),\n",
      " ('ca', 14),\n",
      " ('ceb', 2),\n",
      " ('co', 12),\n",
      " ('cs', 171),\n",
      " ('cy', 3),\n",
      " ('da', 50),\n",
      " ('de', 1267),\n",
      " ('el', 68),\n",
      " ('en', 24619),\n",
      " ('eo', 3),\n",
      " ('es', 1086),\n",
      " ('et', 11),\n",
      " ('eu', 7),\n",
      " ('fa', 1),\n",
      " ('fi', 81),\n",
      " ('fr', 1174),\n",
      " ('fy', 3),\n",
      " ('gd', 1),\n",
      " ('gl', 12),\n",
      " ('gu', 3),\n",
      " ('ha', 4),\n",
      " ('haw', 5),\n",
      " ('hi', 16),\n",
      " ('hr', 25),\n",
      " ('ht', 2),\n",
      " ('hu', 77),\n",
      " ('id', 79),\n",
      " ('is', 10),\n",
      " ('it', 415),\n",
      " ('iw', 33),\n",
      " ('ja', 1907),\n",
      " ('jw', 3),\n",
      " ('ka', 1),\n",
      " ('kk', 1),\n",
      " ('km', 4),\n",
      " ('kn', 1),\n",
      " ('ko', 329),\n",
      " ('ky', 2),\n",
      " ('la', 6),\n",
      " ('lb', 6),\n",
      " ('lt', 18),\n",
      " ('lv', 10),\n",
      " ('mg', 2),\n",
      " ('mi', 5),\n",
      " ('ml', 1),\n",
      " ('mr', 2),\n",
      " ('ms', 10),\n",
      " ('mt', 2),\n",
      " ('ne', 1),\n",
      " ('nl', 204),\n",
      " ('no', 46),\n",
      " ('ny', 3),\n",
      " ('pl', 479),\n",
      " ('pt', 1149),\n",
      " ('ro', 83),\n",
      " ('ru', 1181),\n",
      " ('si', 1),\n",
      " ('sk', 37),\n",
      " ('sl', 23),\n",
      " ('sm', 1),\n",
      " ('sn', 1),\n",
      " ('so', 4),\n",
      " ('sr', 6),\n",
      " ('st', 1),\n",
      " ('su', 1),\n",
      " ('sv', 99),\n",
      " ('sw', 1),\n",
      " ('te', 5),\n",
      " ('th', 90),\n",
      " ('tk', 1),\n",
      " ('tl', 12),\n",
      " ('tr', 154),\n",
      " ('tt', 1),\n",
      " ('uk', 47),\n",
      " ('vi', 221),\n",
      " ('zh-CN', 265),\n",
      " ('zu', 2),\n",
      " (None, 0)]\n",
      "Wall time: 1.65 s\n"
     ]
    }
   ],
   "source": [
    "%%time\n",
    "product_category = input(\"Print category: \")\n",
    "with Session() as session:\n",
    "    lang_info_cat = session.query(Product.description_lang, func.count(Product.description_lang)).\\\n",
    "                    filter(Product.category == product_category).group_by(Product.description_lang).all()\n",
    "    \n",
    "    pprint(lang_info_cat)"
   ]
  },
  {
   "cell_type": "markdown",
   "metadata": {},
   "source": [
    "### 16. Show me all products mentioned in same videos as product betafpv.com"
   ]
  },
  {
   "cell_type": "code",
   "execution_count": 12,
   "metadata": {},
   "outputs": [
    {
     "name": "stdout",
     "output_type": "stream",
     "text": [
      "[('potatojet.com',),\n",
      " ('store.steampowered.com',),\n",
      " ('iha-race.com',),\n",
      " ('www.hobbyporter.com',),\n",
      " ('halorc.uk',),\n",
      " ('www.fesliyanstudios.com',),\n",
      " ('www.hardware-programmi.com',),\n",
      " ('www.currykitten.co.uk',),\n",
      " ('www.talkable.com',),\n",
      " ('es.aliexpress.com',),\n",
      " ('stock.adobe.com',),\n",
      " ('auteldrones.com',),\n",
      " ('helination.ositracker.com',),\n",
      " ('www.airvuz.com',),\n",
      " ('www.readymaderc.com',),\n",
      " ('www.thingiverse.com',),\n",
      " ('www.liftoff-game.com',),\n",
      " ('www.xhelixfpv.com',),\n",
      " ('www.happymodel.cn',),\n",
      " ('remotepilot101.com',),\n",
      " ('fanlink.to',),\n",
      " ('www.vulcanet.shop',),\n",
      " ('vuaketqua.com',),\n",
      " ('dji-store.net',),\n",
      " ('chipolo.net',),\n",
      " ('s.click.aliexpress.com',),\n",
      " ('www.webleedfpv.com',),\n",
      " ('www.drone-fpv-racer.com',),\n",
      " ('www.epidemicsound.com',),\n",
      " ('blog.studiosport.fr',),\n",
      " ('www.appagatoconyap.it',),\n",
      " ('onlyflyingmachines.com',),\n",
      " ('triplefatgoose.com',),\n",
      " ('cdn.shopifycdn.net',),\n",
      " ('www.getfpv.com',),\n",
      " ('shareasale-analytics.com',),\n",
      " ('rc-innovations.es',),\n",
      " ('www.halfchrome.com',),\n",
      " ('www.razer.com',),\n",
      " ('zbestreview.com',),\n",
      " ('www.phaserfpv.com.au',),\n",
      " ('donate.qiwi.com',),\n",
      " ('tinysleds.com',),\n",
      " ('fr.banggood.com',),\n",
      " ('unsplash.com',),\n",
      " ('www.siroko.com',),\n",
      " ('www.phx-3d.com',),\n",
      " ('www.kickstarter.com',),\n",
      " ('chinahobbyline.com',),\n",
      " ('dedrones.es',),\n",
      " ('www.gemfanhobby.com',),\n",
      " ('carrerasdedrones.net',),\n",
      " ('dedroneshelp.freshdesk.com',),\n",
      " ('live.livefpv.com',),\n",
      " ('battlebornbatteries.com',),\n",
      " ('www.fpvcrate.com',),\n",
      " ('www.actuna.com',),\n",
      " ('www.dropbox.com',),\n",
      " ('instagram.com',),\n",
      " ('www.bienchoisirsondrone.fr',),\n",
      " ('drone-works.com',),\n",
      " ('doe.hu',),\n",
      " ('www.quadcopters.co.uk',),\n",
      " ('homfpv.com',),\n",
      " ('www.ridgewallet.com',),\n",
      " ('www.aliexpress.com',),\n",
      " ('geni.us',),\n",
      " ('flashbomb.bigcartel.com',),\n",
      " ('caddxfpv.com',),\n",
      " ('gopro.com',),\n",
      " ('telegram.me',),\n",
      " ('www.donationalerts.com',),\n",
      " ('twitter.com',),\n",
      " ('www.tele.soumu.go.jp',),\n",
      " ('shop.holybro.com',),\n",
      " ('supremacyshop.com',),\n",
      " ('www.freewellgear.com',),\n",
      " ('www.xt-xinte.com',),\n",
      " ('www.au-line.com',),\n",
      " ('anikfpv.com',),\n",
      " ('www.project399.com',),\n",
      " ('best.aliexpress.com',),\n",
      " ('goprofessionalcases.com',),\n",
      " ('tokoheli.com',),\n",
      " ('www.skillshare.com',),\n",
      " ('bit.ly',),\n",
      " ('einecrew.de',),\n",
      " ('www.tinywhoop.com',),\n",
      " ('www.gearbest.com',),\n",
      " ('dova-s.jp',),\n",
      " ('www.diatone.us',),\n",
      " ('pca.st',),\n",
      " ('hobbyking.com',),\n",
      " ('www.shirtee.com',),\n",
      " ('maps.gsi.go.jp',),\n",
      " ('www.transtechobby.com',),\n",
      " ('www.cafago.com',),\n",
      " ('joby.com',),\n",
      " ('tomoquads.miiduu.com',),\n",
      " ('www.hubertaile-drones.fr',),\n",
      " ('t-do.ru',),\n",
      " ('shop.iflight-rc.com',),\n",
      " ('www.hglrc.com',),\n",
      " ('steamcommunity.com',),\n",
      " ('www.buymeacoffee.com',),\n",
      " ('www.runcam.com',),\n",
      " ('neewer.com',),\n",
      " ('www.hqprop.com',),\n",
      " ('racerxfpv.com',),\n",
      " ('www.rotorama.com',),\n",
      " ('culturefpv.fr',),\n",
      " ('cncmadness.com',),\n",
      " ('www.masterairscrew.com',),\n",
      " ('www.racedayquads.com',),\n",
      " ('rcmodels.tech',),\n",
      " ('www.heli-nation.com',),\n",
      " ('cults3d.com',),\n",
      " ('pyrodrone.com',),\n",
      " ('www.instagram.com',),\n",
      " ('www.fpvknowitall.com',),\n",
      " ('www.ivoox.com',),\n",
      " ('www.velocidrone.com',),\n",
      " ('www.fpv24.com',),\n",
      " ('rotorriot.com',),\n",
      " ('www.amazon.it',),\n",
      " ('en.tipeee.com',),\n",
      " ('ncs.io',),\n",
      " ('docs.google.com',),\n",
      " ('betafpv.com',),\n",
      " ('mobillygates.com',),\n",
      " ('www.originaldobo.com',),\n",
      " ('snhobbies.com',),\n",
      " ('discord.com',),\n",
      " ('www.cyclonefpv.com',),\n",
      " ('www.utip.io',),\n",
      " ('www.amazon.co.jp',),\n",
      " ('www.stikitskins.com',),\n",
      " ('store.dji.com',),\n",
      " ('www.catalystmachineworks.com',),\n",
      " ('teespring.com',),\n",
      " ('www.reelsteady.com',),\n",
      " ('www.damfastfpv.com',),\n",
      " ('click.accesstrade.vn',),\n",
      " ('www.mediafire.com',),\n",
      " ('support.betafpv.com',),\n",
      " ('my.air.io',),\n",
      " ('www.farinsframes.com',),\n",
      " ('prosoundpack.shop',),\n",
      " ('www.banggood.com',),\n",
      " ('www.booking.com',),\n",
      " ('www.revolut.com',),\n",
      " ('www.brotherhobbystore.com',),\n",
      " ('www.dronepilotgroundschool.com',),\n",
      " ('dronehungary.polomania.hu',),\n",
      " ('www.team-blacksheep.com',),\n",
      " ('www.droneguru.es',),\n",
      " ('www.paypal.com',),\n",
      " ('stanfpv.com',),\n",
      " ('rcinpower.com',),\n",
      " ('www.money.yandex.ru',),\n",
      " ('soundeffect-lab.info',),\n",
      " ('shop.runcam.com',),\n",
      " ('hobbycool.com',),\n",
      " ('www.amazon.fr',),\n",
      " ('www.missnumerique.com',),\n",
      " ('www.iha-race.com',),\n",
      " ('www.heronaerialphotography.com',),\n",
      " ('twitch.tv',),\n",
      " ('graysonhobby.com',),\n",
      " ('geprc.com',),\n",
      " ('qrgofpv.livefpv.com',),\n",
      " ('can-am-rotors.com',),\n",
      " ('ummagawd.com',),\n",
      " ('droneshop.nl',),\n",
      " ('www.movavi.com',),\n",
      " ('www.airbnb.it',),\n",
      " ('www.fpv-fly.fr',),\n",
      " ('www.geekbuying.com',),\n",
      " ('flyfive33.com',),\n",
      " ('fpvcopter.de',),\n",
      " ('menacerc.co.uk',),\n",
      " ('click.dji.com',),\n",
      " ('jupitamusic.com',),\n",
      " ('github.com',),\n",
      " ('shop.jtdrone.com',),\n",
      " ('www.twitch.tv',),\n",
      " ('shop.makerfire.com',),\n",
      " ('www.audible.com',),\n",
      " ('www.adorama.com',),\n",
      " ('www.genstattu.com',),\n",
      " ('projectmockingbird.squarespace.com',),\n",
      " ('www.ampow.com',),\n",
      " ('www.pgytech.com',),\n",
      " ('www.realdronesimulator.com',),\n",
      " ('es.banggood.com',),\n",
      " ('www.asseneyewear.com',),\n",
      " ('www.facebook.com',),\n",
      " ('www.exwayboard.com',),\n",
      " ('es.gearbest.com',),\n",
      " ('bad_product_domain',),\n",
      " ('www.toptoyspace.com',),\n",
      " ('flyfive33.eu',),\n",
      " ('www.chromeindustries.com',),\n",
      " ('impulserc.com',),\n",
      " ('www.helicomicro.com',),\n",
      " ('hypeddit.com',),\n",
      " ('www.brainfpv.com',),\n",
      " ('www.twitter.com',),\n",
      " ('www.airbladeuav.com',),\n",
      " ('drive.google.com',),\n",
      " ('sea.banggood.com',),\n",
      " ('www.amaxinno.com',),\n",
      " ('soundcloud.com',),\n",
      " ('www.videosoftdev.com',),\n",
      " ('www.dkhardware.com',),\n",
      " ('www.drone-spot.tech',),\n",
      " ('www.foxeer.com',),\n",
      " ('www.viflydrone.com',),\n",
      " ('www.soundstripe.com',),\n",
      " ('www.shendrones.com',),\n",
      " ('fettec.net',),\n",
      " ('kit.co',),\n",
      " ('www.conrad.it',),\n",
      " ('pine64.com',),\n",
      " ('www.drone24hours.com',),\n",
      " ('spinonthese.com',),\n",
      " ('www.dronebook.org',),\n",
      " ('refer.wework.com',),\n",
      " ('www.etsy.com',),\n",
      " ('fatshark.helpscoutdocs.com',),\n",
      " ('taplink.cc',),\n",
      " ('www.gyan.dev',),\n",
      " ('artlist.io',),\n",
      " ('rotorvillage.ca',),\n",
      " ('newbeedrone.com',),\n",
      " ('utip.io',),\n",
      " ('www.bhphotovideo.com',),\n",
      " ('play.google.com',),\n",
      " ('amazon.com',),\n",
      " ('www.google.com',),\n",
      " ('www.amazon.ca',),\n",
      " ('hobbymatehobby.com',),\n",
      " ('store.insta360.com',),\n",
      " ('sevenminusseven.com',),\n",
      " ('dji-kyiv.com',),\n",
      " ('jlcpcb.com',),\n",
      " ('www.rcgroups.com',),\n",
      " ('rebrandly.com',),\n",
      " ('www.planoly.com',),\n",
      " ('artgrid.io',),\n",
      " ('www.flaticon.com',),\n",
      " ('www.amazon.de',),\n",
      " ('photos.google.com',),\n",
      " ('www.walmart.com',),\n",
      " ('mocca-bitcoin.com',),\n",
      " ('www.rotormad.es',),\n",
      " ('www.wearefpv.fr',),\n",
      " ('www.bfixie.com',),\n",
      " ('www.tomtop.com',),\n",
      " ('www.snhobbies.com',),\n",
      " ('www.fullspeedrc.com',),\n",
      " ('www.dronecamps.com',),\n",
      " ('ntsimos-my.sharepoint.com',),\n",
      " ('discord.me',),\n",
      " ('extrudesigns.com',),\n",
      " ('linktr.ee',),\n",
      " ('www.oscargo9rc.com',),\n",
      " ('www.patreon.com',),\n",
      " ('open.spotify.com',),\n",
      " ('sequremall.com',),\n",
      " ('t.me',),\n",
      " ('torvol.com',),\n",
      " ('vk.com',),\n",
      " ('www.musicbed.com',),\n",
      " ('3dracer.fr',),\n",
      " ('emax-usa.com',),\n",
      " ('www.imoulife.com',),\n",
      " ('readyedi.co.il',),\n",
      " ('www.multigp.com',),\n",
      " ('www.edricker.com',),\n",
      " ('it.banggood.com',),\n",
      " ('www.amazon.co.uk',),\n",
      " ('lumecube.com',),\n",
      " ('rcvlog.ru',),\n",
      " ('fox-alphatango.aviation-civile.gouv.fr',),\n",
      " ('torquefpv.com',),\n",
      " ('www.youtube.com',),\n",
      " ('reduxair.com',),\n",
      " ('flywoo.net',),\n",
      " ('www.insta360.com',),\n",
      " ('www.daydoseofhouse.com',),\n",
      " ('www.horusrc.com',),\n",
      " ('streamlabs.com',),\n",
      " ('overcast.fm',),\n",
      " ('www.amazon.com',),\n",
      " ('accounts.google.com',),\n",
      " ('www.r3dshifters.com',),\n",
      " ('www.mavmount.com',),\n",
      " ('www.ecologie.gouv.fr',),\n",
      " ('www.myframefpv.com',),\n",
      " ('avantquads.com',),\n",
      " ('www.frsky-rc.com',),\n",
      " ('eryone3d.com',),\n",
      " ('www.maionhigh.com',),\n",
      " ('rob-fpv.com',),\n",
      " ('www.hobbywingdirect.com',),\n",
      " ('www.cinactive.com',),\n",
      " ('www.mlit.go.jp',),\n",
      " ('nordfpv.com',),\n",
      " ('www.rcbenchmark.com',),\n",
      " ('www.motard-geek.fr',),\n",
      " ('creativecommons.org',),\n",
      " ('www.amazon.es',),\n",
      " ('forum.wearefpv.fr',),\n",
      " ('www.qksrv.net',),\n",
      " ('uk.banggood.com',),\n",
      " ('dronedj.com',),\n",
      " ('www.holybro.com',),\n",
      " ('www.kareareadrone.com',),\n",
      " ('9to5mac.com',),\n",
      " ('jizomae.sakura.ne.jp',),\n",
      " ('www.hobbywing.com',),\n",
      " ('ccmixter.org',),\n",
      " ('jflight.net',),\n",
      " ('store-en.tmotor.com',),\n",
      " ('it.aliexpress.com',),\n",
      " ('www.adobe.com',),\n",
      " ('n-factory.de',),\n",
      " ('apkpure.com',),\n",
      " ('fr.tipeee.com',),\n",
      " ('letyshops.com',),\n",
      " ('www.jordiborrull.com',),\n",
      " ('hobbystar.es.aliexpress.com',),\n",
      " ('www.hobbyrc.co.uk',),\n",
      " ('planete-fpv.com',),\n",
      " ('shop.maionhigh.com',),\n",
      " ('fpvcycle.com',),\n",
      " ('www.audiolibrary.com.co',),\n",
      " ('usa.banggood.com',),\n",
      " ('www.defiancerc.com',),\n",
      " ('goodventuredrones.com',),\n",
      " ('betafpv.freshdesk.com',),\n",
      " ('facebook.com',)]\n",
      "Wall time: 16.2 s\n"
     ]
    }
   ],
   "source": [
    "%%time\n",
    "domain_product = \"betafpv.com\"\n",
    "with Session() as session:\n",
    "    subquery_link_product = session.query(Link.link).filter(Link.product_domain == domain_product).subquery()\n",
    "\n",
    "    subquery_video_link = session.query(VideoLink.columns['video_id']).\\\n",
    "        filter(VideoLink.columns['link_id'].in_(subquery_link_product)).subquery()\n",
    "\n",
    "    subquery_links = session.query(func.distinct(VideoLink.columns['link_id'])).\\\n",
    "        filter(VideoLink.columns['video_id'].in_(subquery_video_link)).subquery()\n",
    "\n",
    "    subquery_domain = session.query(func.distinct(Link.product_domain)).filter(Link.link.in_(subquery_links)).all()\n",
    "\n",
    "    pprint(subquery_domain)"
   ]
  },
  {
   "cell_type": "markdown",
   "metadata": {},
   "source": [
    "### 17. How many mentions betafpv.com product have?"
   ]
  },
  {
   "cell_type": "code",
   "execution_count": 19,
   "metadata": {},
   "outputs": [
    {
     "name": "stdout",
     "output_type": "stream",
     "text": [
      "387\n",
      "Wall time: 4.76 s\n"
     ]
    }
   ],
   "source": [
    "%%time\n",
    "domain_product = input(\"Print product domain: \")\n",
    "with Session() as session:\n",
    "    que = session.query(Product).filter(Product.domain==domain_product).scalar().links.count()\n",
    "    \n",
    "    print(que)"
   ]
  },
  {
   "cell_type": "markdown",
   "metadata": {},
   "source": [
    "### 18. Get all products with \"gnom\" in translated description"
   ]
  },
  {
   "cell_type": "code",
   "execution_count": 20,
   "metadata": {},
   "outputs": [
    {
     "name": "stdout",
     "output_type": "stream",
     "text": [
      "[<Product(('you.guru', datetime.datetime(2021, 4, 14, 4, 53, 56, 382856)))>,\n",
      " <Product(('turtle-burgler.tumblr.com', datetime.datetime(2021, 4, 13, 22, 30, 19, 383865)))>,\n",
      " <Product(('9085e4a.contato.site', datetime.datetime(2021, 4, 13, 16, 17, 29, 169948)))>,\n",
      " <Product(('corvus.com.ua', datetime.datetime(2021, 4, 13, 17, 27, 29, 276204)))>,\n",
      " <Product(('xn----8sbechgrcw2ao7aj4li.xn--p1ai', datetime.datetime(2021, 4, 14, 4, 51, 26, 405377)))>,\n",
      " <Product(('zwerge24.de', datetime.datetime(2021, 4, 14, 4, 57, 44, 23795)))>,\n",
      " <Product(('www.mirenesse.com', datetime.datetime(2021, 4, 21, 3, 2, 4, 182951)))>,\n",
      " <Product(('astrosvetlanadragan.com', datetime.datetime(2021, 4, 13, 16, 42, 56, 130444)))>,\n",
      " <Product(('gnomelordgaming.tumblr.com', datetime.datetime(2021, 4, 13, 18, 33, 54, 147529)))>,\n",
      " <Product(('golden-gnomes.biz', datetime.datetime(2021, 4, 13, 18, 34, 43, 232956)))>,\n",
      " <Product(('goldenmines.biz', datetime.datetime(2021, 4, 13, 18, 34, 43, 919203)))>,\n",
      " <Product(('golden-mines.biz', datetime.datetime(2021, 4, 13, 18, 34, 44, 662021)))>,\n",
      " <Product(('guro1.bandcamp.com', datetime.datetime(2021, 4, 13, 18, 40, 30, 888813)))>,\n",
      " <Product(('havid.com.br', datetime.datetime(2021, 4, 13, 18, 44, 15, 385297)))>,\n",
      " <Product(('www.gnom-gnom.com', datetime.datetime(2021, 4, 14, 0, 56, 37, 985336)))>,\n",
      " <Product(('www.kalavrita.gr', datetime.datetime(2021, 4, 14, 1, 34, 21, 224763)))>,\n",
      " <Product(('www.signomatic.co.uk', datetime.datetime(2021, 4, 14, 3, 35, 22, 995948)))>,\n",
      " <Product(('manskensdvargar.bandcamp.com', datetime.datetime(2021, 4, 19, 14, 31, 29, 924447)))>,\n",
      " <Product(('thelittlegreenbean.com', datetime.datetime(2021, 4, 13, 22, 4, 43, 715146)))>,\n",
      " <Product(('www.astro-hvezda.cz', datetime.datetime(2021, 4, 13, 23, 10, 42, 745871)))>,\n",
      " <Product(('www.gnomesngoblins.com', datetime.datetime(2021, 4, 14, 0, 56, 34, 386098)))>,\n",
      " <Product(('www.havid.com.br', datetime.datetime(2021, 4, 14, 1, 5, 58, 49341)))>,\n",
      " <Product(('br.gnome.org', datetime.datetime(2021, 4, 13, 17, 3, 47, 430571)))>,\n",
      " <Product(('gnom.land', datetime.datetime(2021, 4, 13, 18, 35, 7, 423094)))>,\n",
      " <Product(('infinitykingdom.gtarcade.com', datetime.datetime(2021, 4, 13, 18, 58, 22, 427209)))>]\n",
      "Wall time: 53.5 s\n"
     ]
    }
   ],
   "source": [
    "%%time\n",
    "search = f\"%{'gnom'}%\"\n",
    "with Session() as session:\n",
    "    que = session.query(Product).filter(Product.description_trans.like(search)).all()\n",
    "    pprint(que)"
   ]
  },
  {
   "cell_type": "markdown",
   "metadata": {},
   "source": [
    "### 19. Get all products mentioned in list (like ['jcaholding.com.br', 'league-legends.en.uptodown.com', 'www.ncc.se', 'kek.kek', 'mem.com'])"
   ]
  },
  {
   "cell_type": "code",
   "execution_count": 9,
   "metadata": {},
   "outputs": [
    {
     "name": "stdout",
     "output_type": "stream",
     "text": [
      "[<Product(('jcaholding.com.br', datetime.datetime(2021, 4, 19, 14, 16, 30, 611419)))>,\n",
      " <Product(('league-legends.en.uptodown.com', datetime.datetime(2021, 4, 19, 14, 16, 58, 829226)))>,\n",
      " <Product(('www.ncc.se', datetime.datetime(2021, 4, 14, 2, 32, 10, 434425)))>]\n",
      "Wall time: 1.47 s\n"
     ]
    }
   ],
   "source": [
    "%%time\n",
    "list_product = ['jcaholding.com.br', 'league-legends.en.uptodown.com', 'www.ncc.se', 'kek.kek', 'mem.com']\n",
    "with Session() as session:\n",
    "    que = session.query(Product).filter(Product.domain.in_(list_product)).all()\n",
    "    pprint(que)"
   ]
  },
  {
   "cell_type": "markdown",
   "metadata": {},
   "source": [
    "### 20. Get all channels on which products were advertised for which keywords = math"
   ]
  },
  {
   "cell_type": "code",
   "execution_count": 42,
   "metadata": {},
   "outputs": [
    {
     "name": "stdout",
     "output_type": "stream",
     "text": [
      "[<YoutubeChannel(('UCVbL3fK5nnehn-ktyhlcRxg', datetime.datetime(2020, 2, 3, 11, 17, 29, 758758, tzinfo=psycopg2.tz.FixedOffsetTimezone(offset=0, name=None))))>,\n",
      " <YoutubeChannel(('UCnXmB2dX6od7Kvkw25g635w', datetime.datetime(2020, 7, 14, 6, 18, 41, 549859, tzinfo=psycopg2.tz.FixedOffsetTimezone(offset=0, name=None))))>,\n",
      " <YoutubeChannel(('UCYx20HUyUOijltwJIUsHHzw', datetime.datetime(2019, 3, 24, 9, 6, 46, 649072, tzinfo=psycopg2.tz.FixedOffsetTimezone(offset=0, name=None))))>,\n",
      " <YoutubeChannel(('UCK8sQmJBp8GCxrOtXWBpyEA', datetime.datetime(2020, 2, 6, 4, 56, 19, 111070, tzinfo=psycopg2.tz.FixedOffsetTimezone(offset=0, name=None))))>,\n",
      " <YoutubeChannel(('UCAlWx0jwO3JEmbBR_P3nhbA', datetime.datetime(2019, 4, 4, 7, 26, 52, 880620, tzinfo=psycopg2.tz.FixedOffsetTimezone(offset=0, name=None))))>,\n",
      " <YoutubeChannel(('UCtFp7CCkycbNtxOftDNJYHQ', datetime.datetime(2019, 4, 4, 1, 9, 52, 747708, tzinfo=psycopg2.tz.FixedOffsetTimezone(offset=0, name=None))))>,\n",
      " <YoutubeChannel(('UC-wdveKCDbbjK0_rzR2XhVA', datetime.datetime(2019, 4, 18, 19, 36, 50, 506374, tzinfo=psycopg2.tz.FixedOffsetTimezone(offset=0, name=None))))>,\n",
      " <YoutubeChannel(('UCtwa2s4DB_D8fXniEv0rExw', datetime.datetime(2019, 3, 10, 14, 28, 3, 368995, tzinfo=psycopg2.tz.FixedOffsetTimezone(offset=0, name=None))))>,\n",
      " <YoutubeChannel(('UCS5PaGnSnFUnrjSc80XRnqw', datetime.datetime(2019, 3, 23, 19, 18, 50, 554905, tzinfo=psycopg2.tz.FixedOffsetTimezone(offset=0, name=None))))>,\n",
      " <YoutubeChannel(('UC8f2CDyLibpGYSN3O2LfDwg', datetime.datetime(2019, 9, 11, 16, 56, 57, 780719, tzinfo=psycopg2.tz.FixedOffsetTimezone(offset=0, name=None))))>,\n",
      " <YoutubeChannel(('UCh4LXQWe5NG1gCcZxZLMd7Q', datetime.datetime(2020, 7, 13, 21, 0, 46, 950897, tzinfo=psycopg2.tz.FixedOffsetTimezone(offset=0, name=None))))>,\n",
      " <YoutubeChannel(('UC0XU4nMJQ0yvPXhLNXVVUOw', datetime.datetime(2019, 5, 25, 8, 58, 59, 545341, tzinfo=psycopg2.tz.FixedOffsetTimezone(offset=0, name=None))))>,\n",
      " <YoutubeChannel(('UCj1Jtb8xLUzFAm8J-Q1e1MQ', datetime.datetime(2019, 3, 19, 20, 15, 53, 342963, tzinfo=psycopg2.tz.FixedOffsetTimezone(offset=0, name=None))))>,\n",
      " <YoutubeChannel(('UC2wtfuvVfxDtPtPf4m9x72Q', datetime.datetime(2019, 5, 25, 13, 29, 22, 357378, tzinfo=psycopg2.tz.FixedOffsetTimezone(offset=0, name=None))))>,\n",
      " <YoutubeChannel(('UCOLk9tXeX8QI66ZYeW_vO-g', datetime.datetime(2019, 5, 22, 1, 3, 14, 157867, tzinfo=psycopg2.tz.FixedOffsetTimezone(offset=0, name=None))))>,\n",
      " <YoutubeChannel(('UCKp8a2zt4hk_Qe8q2k87Kbg', datetime.datetime(2019, 4, 8, 23, 22, 20, 924068, tzinfo=psycopg2.tz.FixedOffsetTimezone(offset=0, name=None))))>,\n",
      " <YoutubeChannel(('UCEY5Q7VVao6qNrK59h7FQwg', datetime.datetime(2020, 8, 17, 7, 37, 34, 562643, tzinfo=psycopg2.tz.FixedOffsetTimezone(offset=0, name=None))))>,\n",
      " <YoutubeChannel(('UCiuaPbnqzf7APHMBVnpyzzQ', datetime.datetime(2019, 3, 4, 11, 18, 23, 539825, tzinfo=psycopg2.tz.FixedOffsetTimezone(offset=0, name=None))))>,\n",
      " <YoutubeChannel(('UCVXzjXlHEwsSwjMFP1r8J9Q', datetime.datetime(2019, 5, 23, 7, 55, 33, 95964, tzinfo=psycopg2.tz.FixedOffsetTimezone(offset=0, name=None))))>,\n",
      " <YoutubeChannel(('UCqsyOBd31LT-EwwqiSBKxSA', datetime.datetime(2019, 5, 13, 16, 18, 36, 440172, tzinfo=psycopg2.tz.FixedOffsetTimezone(offset=0, name=None))))>,\n",
      " <YoutubeChannel(('UCtUFViXI5GLnr2CmS4PxsFw', datetime.datetime(2020, 8, 16, 16, 25, 54, 101944, tzinfo=psycopg2.tz.FixedOffsetTimezone(offset=0, name=None))))>,\n",
      " <YoutubeChannel(('UCSfRryD35ejtpuIxwWR45nQ', datetime.datetime(2020, 8, 16, 23, 24, 53, 485088, tzinfo=psycopg2.tz.FixedOffsetTimezone(offset=0, name=None))))>,\n",
      " <YoutubeChannel(('UCM0Q1T_-IUYIq0qid3VKk6w', datetime.datetime(2020, 7, 20, 17, 56, 55, 633006, tzinfo=psycopg2.tz.FixedOffsetTimezone(offset=0, name=None))))>,\n",
      " <YoutubeChannel(('UCh7mrCwn8HMu2UBLrz6Og0w', datetime.datetime(2020, 8, 13, 15, 36, 13, 676400, tzinfo=psycopg2.tz.FixedOffsetTimezone(offset=0, name=None))))>,\n",
      " <YoutubeChannel(('UCialJ2te1CSh8DLU8SK5D_w', datetime.datetime(2019, 3, 4, 13, 27, 3, 812148, tzinfo=psycopg2.tz.FixedOffsetTimezone(offset=0, name=None))))>,\n",
      " <YoutubeChannel(('UCNbbreT8es657nkCR7xVfcg', datetime.datetime(2019, 3, 20, 0, 19, 58, 658776, tzinfo=psycopg2.tz.FixedOffsetTimezone(offset=0, name=None))))>,\n",
      " <YoutubeChannel(('UCqgM55GjojuQMOe9GoR2C8g', datetime.datetime(2020, 7, 20, 15, 20, 45, 557964, tzinfo=psycopg2.tz.FixedOffsetTimezone(offset=0, name=None))))>,\n",
      " <YoutubeChannel(('UC6xoTZHtMHH-wtS0Cph48Qw', datetime.datetime(2019, 3, 6, 12, 19, 20, 79795, tzinfo=psycopg2.tz.FixedOffsetTimezone(offset=0, name=None))))>,\n",
      " <YoutubeChannel(('UCs_uv3QyUIQjBoL1Ij5BdlQ', datetime.datetime(2019, 9, 11, 16, 56, 57, 777344, tzinfo=psycopg2.tz.FixedOffsetTimezone(offset=0, name=None))))>,\n",
      " <YoutubeChannel(('UC-RyhIEG3is1Sfe70-dHYQw', datetime.datetime(2019, 5, 9, 19, 34, 2, 85815, tzinfo=psycopg2.tz.FixedOffsetTimezone(offset=0, name=None))))>,\n",
      " <YoutubeChannel(('UCtjgalbqLFkHhry3gnuYRlw', datetime.datetime(2019, 3, 20, 1, 9, 36, 724083, tzinfo=psycopg2.tz.FixedOffsetTimezone(offset=0, name=None))))>,\n",
      " <YoutubeChannel(('UC-D_OLYB8ng4XQpUcA9Qk5Q', datetime.datetime(2020, 8, 14, 21, 34, 10, 347742, tzinfo=psycopg2.tz.FixedOffsetTimezone(offset=0, name=None))))>,\n",
      " <YoutubeChannel(('UCiRyNJKUiYdKsxXkt_jMZ-A', datetime.datetime(2019, 3, 16, 15, 13, 42, 829542, tzinfo=psycopg2.tz.FixedOffsetTimezone(offset=0, name=None))))>,\n",
      " <YoutubeChannel(('UC4JicBAP03jFnojHIwqs3bQ', datetime.datetime(2020, 8, 14, 16, 52, 3, 701711, tzinfo=psycopg2.tz.FixedOffsetTimezone(offset=0, name=None))))>,\n",
      " <YoutubeChannel(('UCInS9NQEpFedHXP0lyuzPgQ', datetime.datetime(2019, 3, 4, 13, 46, 15, 627826, tzinfo=psycopg2.tz.FixedOffsetTimezone(offset=0, name=None))))>,\n",
      " <YoutubeChannel(('UC0fRcRcd83ssRmwSAYCEGdQ', datetime.datetime(2019, 3, 16, 14, 17, 11, 936433, tzinfo=psycopg2.tz.FixedOffsetTimezone(offset=0, name=None))))>,\n",
      " <YoutubeChannel(('UC9YGptkAATrfj7ZNL0RJSpw', datetime.datetime(2019, 5, 18, 21, 35, 47, 954337, tzinfo=psycopg2.tz.FixedOffsetTimezone(offset=0, name=None))))>,\n",
      " <YoutubeChannel(('UCGQcHQZy0Aco7mlrQw_ur0g', datetime.datetime(2019, 4, 26, 15, 30, 43, 617844, tzinfo=psycopg2.tz.FixedOffsetTimezone(offset=0, name=None))))>,\n",
      " <YoutubeChannel(('UCQtq9GX2WGDzvapvfIwkUyg', datetime.datetime(2019, 4, 11, 12, 21, 4, 442990, tzinfo=psycopg2.tz.FixedOffsetTimezone(offset=0, name=None))))>,\n",
      " <YoutubeChannel(('UCGHrO209l9vmCurckpsSZhQ', datetime.datetime(2019, 3, 15, 16, 26, 23, 275126, tzinfo=psycopg2.tz.FixedOffsetTimezone(offset=0, name=None))))>,\n",
      " <YoutubeChannel(('UCor1V5Y7MPPY7ub0dKC426g', datetime.datetime(2019, 4, 9, 7, 3, 5, 471188, tzinfo=psycopg2.tz.FixedOffsetTimezone(offset=0, name=None))))>,\n",
      " <YoutubeChannel(('UCuKOxsFU9zD9O6qWTXSk37A', datetime.datetime(2019, 4, 15, 0, 46, 1, 195806, tzinfo=psycopg2.tz.FixedOffsetTimezone(offset=0, name=None))))>,\n",
      " <YoutubeChannel(('UCbhpAztEK-MkkzLWsVny_SA', datetime.datetime(2019, 5, 9, 21, 10, 18, 46297, tzinfo=psycopg2.tz.FixedOffsetTimezone(offset=0, name=None))))>,\n",
      " <YoutubeChannel(('UCvzi4eJje0Fysm3sSn7A0Nw', datetime.datetime(2020, 7, 20, 18, 19, 23, 175725, tzinfo=psycopg2.tz.FixedOffsetTimezone(offset=0, name=None))))>,\n",
      " <YoutubeChannel(('UCrQOJNVjrKORubtxAh6QXMQ', datetime.datetime(2019, 3, 23, 10, 19, 11, 83303, tzinfo=psycopg2.tz.FixedOffsetTimezone(offset=0, name=None))))>,\n",
      " <YoutubeChannel(('UCqaFsI-0yCovowCaBDnDp9g', datetime.datetime(2019, 4, 10, 10, 5, 17, 884526, tzinfo=psycopg2.tz.FixedOffsetTimezone(offset=0, name=None))))>,\n",
      " <YoutubeChannel(('UCnW-BUxvKx1FbzlBMp4EZmw', datetime.datetime(2019, 3, 16, 15, 20, 53, 692069, tzinfo=psycopg2.tz.FixedOffsetTimezone(offset=0, name=None))))>,\n",
      " <YoutubeChannel(('UC5FANiomzvn6PDrpLdNXgRw', datetime.datetime(2019, 9, 11, 16, 56, 57, 776930, tzinfo=psycopg2.tz.FixedOffsetTimezone(offset=0, name=None))))>,\n",
      " <YoutubeChannel(('UCDQZ0sOPsL552GRpgBy0Npg', datetime.datetime(2019, 3, 7, 14, 47, 34, 928597, tzinfo=psycopg2.tz.FixedOffsetTimezone(offset=0, name=None))))>,\n",
      " <YoutubeChannel(('UCQ-hpFPF4nOKoKPEAZM_THw', datetime.datetime(2019, 3, 4, 11, 0, 12, 157424, tzinfo=psycopg2.tz.FixedOffsetTimezone(offset=0, name=None))))>,\n",
      " <YoutubeChannel(('UC6HHbfDEuS5Ir2Xh39B-ePg', datetime.datetime(2019, 3, 6, 11, 53, 20, 182055, tzinfo=psycopg2.tz.FixedOffsetTimezone(offset=0, name=None))))>,\n",
      " <YoutubeChannel(('UCN0myyIcTFsOrfNiMSWkppw', datetime.datetime(2020, 8, 15, 11, 11, 34, 459377, tzinfo=psycopg2.tz.FixedOffsetTimezone(offset=0, name=None))))>,\n",
      " <YoutubeChannel(('UCmW4n-cpZNyVgREtF0uQJ0w', datetime.datetime(2019, 5, 21, 12, 56, 47, 738199, tzinfo=psycopg2.tz.FixedOffsetTimezone(offset=0, name=None))))>,\n",
      " <YoutubeChannel(('UC3G9hDW3BviB0CMctHIzVSQ', datetime.datetime(2020, 7, 20, 18, 25, 55, 426392, tzinfo=psycopg2.tz.FixedOffsetTimezone(offset=0, name=None))))>,\n",
      " <YoutubeChannel(('UCT3wwJBh8fwePiNC63NlzCA', datetime.datetime(2019, 5, 17, 4, 18, 20, 204916, tzinfo=psycopg2.tz.FixedOffsetTimezone(offset=0, name=None))))>,\n",
      " <YoutubeChannel(('UCSFltuA1FuYlVpgkQ9sDAHg', datetime.datetime(2020, 8, 17, 8, 36, 54, 134930, tzinfo=psycopg2.tz.FixedOffsetTimezone(offset=0, name=None))))>,\n",
      " <YoutubeChannel(('UCNyJk0eoESO3CxAmrktAB5w', datetime.datetime(2019, 3, 4, 11, 42, 19, 496196, tzinfo=psycopg2.tz.FixedOffsetTimezone(offset=0, name=None))))>,\n",
      " <YoutubeChannel(('UC-HHJWCzskrsPdEjYulBg4w', datetime.datetime(2019, 3, 7, 19, 59, 17, 860105, tzinfo=psycopg2.tz.FixedOffsetTimezone(offset=0, name=None))))>,\n",
      " <YoutubeChannel(('UCF3yFnI5Ekvc-Wd9JTMRI6g', datetime.datetime(2020, 2, 6, 10, 56, 50, 820807, tzinfo=psycopg2.tz.FixedOffsetTimezone(offset=0, name=None))))>,\n",
      " <YoutubeChannel(('UCdgIA24igyFgQ0c6y_rb4WA', datetime.datetime(2019, 3, 7, 4, 28, 6, 656311, tzinfo=psycopg2.tz.FixedOffsetTimezone(offset=0, name=None))))>,\n",
      " <YoutubeChannel(('UCMpizQXRt817D0qpBQZ2TlA', datetime.datetime(2019, 5, 11, 9, 51, 50, 333473, tzinfo=psycopg2.tz.FixedOffsetTimezone(offset=0, name=None))))>,\n",
      " <YoutubeChannel(('UCKPfgztY2Wnx40bQIeBGGRw', datetime.datetime(2019, 5, 21, 3, 35, 10, 57529, tzinfo=psycopg2.tz.FixedOffsetTimezone(offset=0, name=None))))>,\n",
      " <YoutubeChannel(('UCNqbnkQhWHJpf4X5dOBMXjA', datetime.datetime(2019, 4, 10, 7, 24, 28, 575446, tzinfo=psycopg2.tz.FixedOffsetTimezone(offset=0, name=None))))>,\n",
      " <YoutubeChannel(('UCrzyz-UQUoLP8tQNAMnNirw', datetime.datetime(2020, 8, 15, 11, 37, 55, 598483, tzinfo=psycopg2.tz.FixedOffsetTimezone(offset=0, name=None))))>,\n",
      " <YoutubeChannel(('UC5EynWZVYXGvYD3CorVFWug', datetime.datetime(2019, 5, 12, 8, 49, 19, 934357, tzinfo=psycopg2.tz.FixedOffsetTimezone(offset=0, name=None))))>,\n",
      " <YoutubeChannel(('UC2onHYTrT9zRafsD22BljSg', datetime.datetime(2019, 3, 6, 9, 19, 52, 343985, tzinfo=psycopg2.tz.FixedOffsetTimezone(offset=0, name=None))))>,\n",
      " <YoutubeChannel(('UCyDcwmQrvASv125u2kdadYA', datetime.datetime(2019, 3, 11, 20, 28, 35, 894784, tzinfo=psycopg2.tz.FixedOffsetTimezone(offset=0, name=None))))>,\n",
      " <YoutubeChannel(('UCb5whUu1UmmYlbxoN6CCDXg', datetime.datetime(2019, 3, 15, 15, 57, 8, 391303, tzinfo=psycopg2.tz.FixedOffsetTimezone(offset=0, name=None))))>,\n",
      " <YoutubeChannel(('UC5J-hZ4wNf7OlkzIn49LHoQ', datetime.datetime(2019, 3, 6, 11, 18, 34, 937576, tzinfo=psycopg2.tz.FixedOffsetTimezone(offset=0, name=None))))>,\n",
      " <YoutubeChannel(('UCCCS8cRSiJjAqgwvmP7VxJw', datetime.datetime(2019, 3, 5, 2, 19, 19, 201879, tzinfo=psycopg2.tz.FixedOffsetTimezone(offset=0, name=None))))>,\n",
      " <YoutubeChannel(('UC0rk-nMm43zS6l_qVtXpvMg', datetime.datetime(2019, 5, 25, 19, 41, 42, 125741, tzinfo=psycopg2.tz.FixedOffsetTimezone(offset=0, name=None))))>,\n",
      " <YoutubeChannel(('UCfqEPO0M10KAtuXlc1NjuFg', datetime.datetime(2019, 4, 12, 13, 59, 33, 506814, tzinfo=psycopg2.tz.FixedOffsetTimezone(offset=0, name=None))))>,\n",
      " <YoutubeChannel(('UCrxdrWzYnVZElgF1n-srlog', datetime.datetime(2019, 5, 17, 4, 9, 32, 729555, tzinfo=psycopg2.tz.FixedOffsetTimezone(offset=0, name=None))))>,\n",
      " <YoutubeChannel(('UC6sAaaqgXLx4vmwiV3t_gvw', datetime.datetime(2019, 5, 25, 21, 41, 3, 625909, tzinfo=psycopg2.tz.FixedOffsetTimezone(offset=0, name=None))))>,\n",
      " <YoutubeChannel(('UCIBYhr4nZToW43kT0Kraf3g', datetime.datetime(2019, 5, 20, 20, 38, 6, 722381, tzinfo=psycopg2.tz.FixedOffsetTimezone(offset=0, name=None))))>,\n",
      " <YoutubeChannel(('UCDjH1CeY_utd-7l-_NCa7hQ', datetime.datetime(2019, 4, 8, 18, 50, 43, 251911, tzinfo=psycopg2.tz.FixedOffsetTimezone(offset=0, name=None))))>,\n",
      " <YoutubeChannel(('UC6-ihgvWlMVBIWtnKzauP_A', datetime.datetime(2019, 5, 25, 20, 36, 45, 567462, tzinfo=psycopg2.tz.FixedOffsetTimezone(offset=0, name=None))))>,\n",
      " <YoutubeChannel(('UC9-Nwhap7-ymz7HbG9x20Kg', datetime.datetime(2019, 5, 10, 14, 44, 30, 382528, tzinfo=psycopg2.tz.FixedOffsetTimezone(offset=0, name=None))))>,\n",
      " <YoutubeChannel(('UCH67w232WPTFbnfHX_lI_Ww', datetime.datetime(2019, 3, 20, 9, 33, 28, 639095, tzinfo=psycopg2.tz.FixedOffsetTimezone(offset=0, name=None))))>,\n",
      " <YoutubeChannel(('UC-wEocwWuIS2OHUFYdsD2Sg', datetime.datetime(2019, 6, 22, 13, 9, 53, 485884, tzinfo=psycopg2.tz.FixedOffsetTimezone(offset=0, name=None))))>,\n",
      " <YoutubeChannel(('UCYkLvJpvhASYwMT1XBnGeXg', datetime.datetime(2020, 8, 18, 7, 19, 51, 244775, tzinfo=psycopg2.tz.FixedOffsetTimezone(offset=0, name=None))))>,\n",
      " <YoutubeChannel(('UCfIpQNeKNXP8frD1J34iY2g', datetime.datetime(2019, 3, 21, 21, 2, 42, 105155, tzinfo=psycopg2.tz.FixedOffsetTimezone(offset=0, name=None))))>,\n",
      " <YoutubeChannel(('UCkNfesiHAPnqc4STgBn-Ljw', datetime.datetime(2019, 3, 8, 16, 9, 28, 937996, tzinfo=psycopg2.tz.FixedOffsetTimezone(offset=0, name=None))))>,\n",
      " <YoutubeChannel(('UCGf-T9qKjvZJNJJNEzVBooA', datetime.datetime(2019, 5, 20, 7, 52, 43, 944367, tzinfo=psycopg2.tz.FixedOffsetTimezone(offset=0, name=None))))>,\n",
      " <YoutubeChannel(('UCRJa1z-2E_TuZPRnTK0SuTA', datetime.datetime(2020, 8, 15, 20, 50, 1, 12124, tzinfo=psycopg2.tz.FixedOffsetTimezone(offset=0, name=None))))>,\n",
      " <YoutubeChannel(('UClxzGD9FDdC4QM4KwcQ9LdQ', datetime.datetime(2020, 7, 20, 18, 18, 11, 720908, tzinfo=psycopg2.tz.FixedOffsetTimezone(offset=0, name=None))))>,\n",
      " <YoutubeChannel(('UCEYOWKugPham85H1B4jIVuw', datetime.datetime(2019, 5, 8, 18, 9, 18, 188883, tzinfo=psycopg2.tz.FixedOffsetTimezone(offset=0, name=None))))>,\n",
      " <YoutubeChannel(('UCcfi3-w7iw-b76P2W7cbjsw', datetime.datetime(2019, 3, 7, 3, 6, 15, 956761, tzinfo=psycopg2.tz.FixedOffsetTimezone(offset=0, name=None))))>,\n",
      " <YoutubeChannel(('UCFBjUE5XIqzIj4IyRo1qPDQ', datetime.datetime(2019, 5, 19, 12, 30, 27, 678319, tzinfo=psycopg2.tz.FixedOffsetTimezone(offset=0, name=None))))>,\n",
      " <YoutubeChannel(('UC8XTzTdIEAqTDBgyVHQQvHw', datetime.datetime(2019, 5, 10, 10, 50, 30, 47028, tzinfo=psycopg2.tz.FixedOffsetTimezone(offset=0, name=None))))>,\n",
      " <YoutubeChannel(('UCppXCu-eSnv5V7HkFg8QY_g', datetime.datetime(2019, 5, 11, 14, 15, 53, 750672, tzinfo=psycopg2.tz.FixedOffsetTimezone(offset=0, name=None))))>,\n",
      " <YoutubeChannel(('UCh8Dlbqo6plM861veeO6JDQ', datetime.datetime(2020, 7, 13, 20, 21, 25, 892821, tzinfo=psycopg2.tz.FixedOffsetTimezone(offset=0, name=None))))>,\n",
      " <YoutubeChannel(('UChiUSlnHrGCc0TVsuQEFteA', datetime.datetime(2019, 3, 7, 20, 2, 31, 958034, tzinfo=psycopg2.tz.FixedOffsetTimezone(offset=0, name=None))))>,\n",
      " <YoutubeChannel(('UCZYFl4vo6hCq1BFAXIlz78A', datetime.datetime(2019, 5, 23, 20, 38, 39, 542694, tzinfo=psycopg2.tz.FixedOffsetTimezone(offset=0, name=None))))>,\n",
      " <YoutubeChannel(('UCt9SZgFExNwWTH5T_JnyF-A', datetime.datetime(2019, 3, 10, 13, 24, 50, 209379, tzinfo=psycopg2.tz.FixedOffsetTimezone(offset=0, name=None))))>,\n",
      " <YoutubeChannel(('UCxkkEYfwCoHKqEJLqv4DStw', datetime.datetime(2020, 7, 13, 21, 58, 4, 448139, tzinfo=psycopg2.tz.FixedOffsetTimezone(offset=0, name=None))))>,\n",
      " <YoutubeChannel(('UCtO4mL7AAM97yt5EHacdpKw', datetime.datetime(2019, 3, 10, 14, 7, 1, 286811, tzinfo=psycopg2.tz.FixedOffsetTimezone(offset=0, name=None))))>,\n",
      " <YoutubeChannel(('UCJ-3XaOSmlRnnHtYNspQ2cg', datetime.datetime(2020, 8, 14, 3, 44, 5, 256717, tzinfo=psycopg2.tz.FixedOffsetTimezone(offset=0, name=None))))>,\n",
      " <YoutubeChannel(('UCQwhrUICcnNKKCDrw6SpHfQ', datetime.datetime(2019, 5, 9, 17, 4, 55, 531644, tzinfo=psycopg2.tz.FixedOffsetTimezone(offset=0, name=None))))>,\n",
      " <YoutubeChannel(('UCRRr_xrOm66qaigIbwFLvbQ', datetime.datetime(2019, 5, 11, 9, 32, 24, 998775, tzinfo=psycopg2.tz.FixedOffsetTimezone(offset=0, name=None))))>,\n",
      " <YoutubeChannel(('UCG9ShGbASoiwHwFcLcAh9EA', datetime.datetime(2019, 5, 11, 8, 47, 7, 262599, tzinfo=psycopg2.tz.FixedOffsetTimezone(offset=0, name=None))))>,\n",
      " <YoutubeChannel(('UCjBdsOpKNfKeKIF5CCO_S1w', datetime.datetime(2019, 5, 20, 23, 32, 24, 158065, tzinfo=psycopg2.tz.FixedOffsetTimezone(offset=0, name=None))))>,\n",
      " <YoutubeChannel(('UCnuvocMQ6Tr31nIDiNX7qTw', datetime.datetime(2019, 5, 11, 10, 13, 3, 178059, tzinfo=psycopg2.tz.FixedOffsetTimezone(offset=0, name=None))))>,\n",
      " <YoutubeChannel(('UC0pyoo_KSiNpX5ad8CEflLA', datetime.datetime(2019, 4, 25, 15, 27, 50, 401067, tzinfo=psycopg2.tz.FixedOffsetTimezone(offset=0, name=None))))>,\n",
      " <YoutubeChannel(('UCBusAP28FaPtYjsMGL1ZpuA', datetime.datetime(2019, 3, 20, 1, 47, 12, 381059, tzinfo=psycopg2.tz.FixedOffsetTimezone(offset=0, name=None))))>,\n",
      " <YoutubeChannel(('UCU3Wd3fcbYYbGdesXWaqHuA', datetime.datetime(2020, 8, 14, 11, 54, 23, 717197, tzinfo=psycopg2.tz.FixedOffsetTimezone(offset=0, name=None))))>,\n",
      " <YoutubeChannel(('UCLXM6lFu1s7MjInzUk5bfNA', datetime.datetime(2019, 3, 14, 18, 16, 16, 360052, tzinfo=psycopg2.tz.FixedOffsetTimezone(offset=0, name=None))))>,\n",
      " <YoutubeChannel(('UC_FGVqET9-GHgKZ7G0ejTSA', datetime.datetime(2019, 5, 25, 14, 25, 25, 2825, tzinfo=psycopg2.tz.FixedOffsetTimezone(offset=0, name=None))))>,\n",
      " <YoutubeChannel(('UCn-4h8YjLfcIpbCWuUcFY_g', datetime.datetime(2019, 5, 21, 13, 18, 45, 735189, tzinfo=psycopg2.tz.FixedOffsetTimezone(offset=0, name=None))))>,\n",
      " <YoutubeChannel(('UC9zrdUfI9Ern67Ax657gEkg', datetime.datetime(2019, 3, 6, 23, 34, 2, 214649, tzinfo=psycopg2.tz.FixedOffsetTimezone(offset=0, name=None))))>,\n",
      " <YoutubeChannel(('UCxwp_BXtbZ0vFTsl6dphyZQ', datetime.datetime(2019, 5, 11, 18, 58, 22, 365129, tzinfo=psycopg2.tz.FixedOffsetTimezone(offset=0, name=None))))>,\n",
      " <YoutubeChannel(('UCsT0YIqwnpJCM-mx7-gSA4Q', datetime.datetime(2019, 9, 11, 16, 56, 57, 776761, tzinfo=psycopg2.tz.FixedOffsetTimezone(offset=0, name=None))))>,\n",
      " <YoutubeChannel(('UC7-i7_GIRpXCKKW13qI10bA', datetime.datetime(2019, 5, 8, 14, 55, 27, 176279, tzinfo=psycopg2.tz.FixedOffsetTimezone(offset=0, name=None))))>,\n",
      " <YoutubeChannel(('UCuWKHSHTHMV_nVSeNH4gYAg', datetime.datetime(2020, 8, 16, 20, 26, 57, 153175, tzinfo=psycopg2.tz.FixedOffsetTimezone(offset=0, name=None))))>,\n",
      " <YoutubeChannel(('UCzkf-oB7V5tTguM36Km5WAA', datetime.datetime(2020, 8, 14, 19, 46, 33, 518330, tzinfo=psycopg2.tz.FixedOffsetTimezone(offset=0, name=None))))>,\n",
      " <YoutubeChannel(('UCMaoxh46hAsqlaVk2HcZkcg', datetime.datetime(2019, 5, 11, 10, 46, 11, 335006, tzinfo=psycopg2.tz.FixedOffsetTimezone(offset=0, name=None))))>,\n",
      " <YoutubeChannel(('UCkX5WcbCI6KF_DLjMSM-Lmg', datetime.datetime(2019, 5, 11, 19, 7, 22, 168088, tzinfo=psycopg2.tz.FixedOffsetTimezone(offset=0, name=None))))>,\n",
      " <YoutubeChannel(('UClKi58vi1xLrwygj0vb78Dg', datetime.datetime(2020, 10, 14, 12, 35, 6, 477061, tzinfo=psycopg2.tz.FixedOffsetTimezone(offset=0, name=None))))>,\n",
      " <YoutubeChannel(('UCfNwCpAb1ZH4rpKMyUsvRIg', datetime.datetime(2019, 3, 7, 17, 33, 50, 864459, tzinfo=psycopg2.tz.FixedOffsetTimezone(offset=0, name=None))))>,\n",
      " <YoutubeChannel(('UClQovQ0QLIP3bu9sp8RzUuw', datetime.datetime(2020, 7, 14, 2, 5, 58, 191780, tzinfo=psycopg2.tz.FixedOffsetTimezone(offset=0, name=None))))>]\n",
      "Wall time: 5.07 s\n"
     ]
    }
   ],
   "source": [
    "%%time\n",
    "last_like_a = \"%math%\"\n",
    "last_like_b = \"%music%\"\n",
    "with Session() as session:\n",
    "    \n",
    "    subquery_product = session.query(Product.domain).filter(func.array_to_string(Product.keywords, ',').ilike(last_like_a))\n",
    "    subquery_product = subquery_product.filter(func.array_to_string(Product.keywords, ',').ilike(last_like_b)).subquery()\n",
    "    \n",
    "    subquery_link = session.query(Link.link).filter(Link.product_domain.in_(subquery_product)).subquery()\n",
    "    subquery_video = session.query(VideoLink.columns['video_id']).filter(VideoLink.columns['link_id'].in_(subquery_link)).subquery()\n",
    "    \n",
    "    subquery_youtube = session.query(YoutubeVideo.channel_id).filter(YoutubeVideo.external_id.in_(subquery_video)).subquery()\n",
    "    \n",
    "    channels = session.query(YoutubeChannel).filter(YoutubeChannel.id.in_(subquery_youtube)).all()\n",
    "    \n",
    "    pprint(channels)"
   ]
  }
 ],
 "metadata": {
  "kernelspec": {
   "display_name": "Python 3",
   "language": "python",
   "name": "python3"
  },
  "language_info": {
   "codemirror_mode": {
    "name": "ipython",
    "version": 3
   },
   "file_extension": ".py",
   "mimetype": "text/x-python",
   "name": "python",
   "nbconvert_exporter": "python",
   "pygments_lexer": "ipython3",
   "version": "3.9.2"
  },
  "pycharm": {
   "stem_cell": {
    "cell_type": "raw",
    "metadata": {
     "collapsed": false
    },
    "source": [
     "\n",
     "\n"
    ]
   }
  }
 },
 "nbformat": 4,
 "nbformat_minor": 1
}
